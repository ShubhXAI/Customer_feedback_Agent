{
  "nbformat": 4,
  "nbformat_minor": 0,
  "metadata": {
    "colab": {
      "provenance": []
    },
    "kernelspec": {
      "name": "python3",
      "display_name": "Python 3"
    },
    "language_info": {
      "name": "python"
    }
  },
  "cells": [
    {
      "cell_type": "code",
      "execution_count": 1,
      "metadata": {
        "colab": {
          "base_uri": "https://localhost:8080/"
        },
        "id": "vChzn8FN5rMk",
        "outputId": "abcaf100-e287-4396-a3f4-5dccbfb1760a"
      },
      "outputs": [
        {
          "output_type": "stream",
          "name": "stdout",
          "text": [
            "\u001b[2K     \u001b[90m━━━━━━━━━━━━━━━━━━━━━━━━━━━━━━━━━━━━━━━━\u001b[0m \u001b[32m43.7/43.7 kB\u001b[0m \u001b[31m3.1 MB/s\u001b[0m eta \u001b[36m0:00:00\u001b[0m\n",
            "\u001b[2K   \u001b[90m━━━━━━━━━━━━━━━━━━━━━━━━━━━━━━━━━━━━━━━━\u001b[0m \u001b[32m443.5/443.5 kB\u001b[0m \u001b[31m13.6 MB/s\u001b[0m eta \u001b[36m0:00:00\u001b[0m\n",
            "\u001b[2K   \u001b[90m━━━━━━━━━━━━━━━━━━━━━━━━━━━━━━━━━━━━━━━━\u001b[0m \u001b[32m2.5/2.5 MB\u001b[0m \u001b[31m64.5 MB/s\u001b[0m eta \u001b[36m0:00:00\u001b[0m\n",
            "\u001b[2K   \u001b[90m━━━━━━━━━━━━━━━━━━━━━━━━━━━━━━━━━━━━━━━━\u001b[0m \u001b[32m153.2/153.2 kB\u001b[0m \u001b[31m12.2 MB/s\u001b[0m eta \u001b[36m0:00:00\u001b[0m\n",
            "\u001b[2K   \u001b[90m━━━━━━━━━━━━━━━━━━━━━━━━━━━━━━━━━━━━━━━━\u001b[0m \u001b[32m131.4/131.4 kB\u001b[0m \u001b[31m9.8 MB/s\u001b[0m eta \u001b[36m0:00:00\u001b[0m\n",
            "\u001b[2K   \u001b[90m━━━━━━━━━━━━━━━━━━━━━━━━━━━━━━━━━━━━━━━━\u001b[0m \u001b[32m43.9/43.9 kB\u001b[0m \u001b[31m2.5 MB/s\u001b[0m eta \u001b[36m0:00:00\u001b[0m\n",
            "\u001b[2K   \u001b[90m━━━━━━━━━━━━━━━━━━━━━━━━━━━━━━━━━━━━━━━━\u001b[0m \u001b[32m50.6/50.6 kB\u001b[0m \u001b[31m3.2 MB/s\u001b[0m eta \u001b[36m0:00:00\u001b[0m\n",
            "\u001b[2K   \u001b[90m━━━━━━━━━━━━━━━━━━━━━━━━━━━━━━━━━━━━━━━━\u001b[0m \u001b[32m45.2/45.2 kB\u001b[0m \u001b[31m3.1 MB/s\u001b[0m eta \u001b[36m0:00:00\u001b[0m\n",
            "\u001b[2K   \u001b[90m━━━━━━━━━━━━━━━━━━━━━━━━━━━━━━━━━━━━━━━━\u001b[0m \u001b[32m50.9/50.9 kB\u001b[0m \u001b[31m3.4 MB/s\u001b[0m eta \u001b[36m0:00:00\u001b[0m\n",
            "\u001b[2K   \u001b[90m━━━━━━━━━━━━━━━━━━━━━━━━━━━━━━━━━━━━━━━━\u001b[0m \u001b[32m216.5/216.5 kB\u001b[0m \u001b[31m14.9 MB/s\u001b[0m eta \u001b[36m0:00:00\u001b[0m\n",
            "\u001b[?25h"
          ]
        }
      ],
      "source": [
        "!pip install --upgrade --quiet langchain-core langchain-community langgraph langchain-groq pydantic sqlalchemy"
      ]
    },
    {
      "cell_type": "code",
      "source": [
        "import os\n",
        "import sqlite3\n",
        "import random\n",
        "from typing import TypedDict, Literal\n",
        "from langchain_core.pydantic_v1 import BaseModel, Field\n",
        "from langchain_core.messages import SystemMessage, HumanMessage\n",
        "from langchain_groq import ChatGroq\n",
        "from langgraph.graph import StateGraph, END\n",
        "from IPython.display import Image, display"
      ],
      "metadata": {
        "colab": {
          "base_uri": "https://localhost:8080/"
        },
        "id": "KqvkTuLy5wFN",
        "outputId": "372c0112-995a-413e-b204-418cffce9013"
      },
      "execution_count": 2,
      "outputs": [
        {
          "output_type": "stream",
          "name": "stderr",
          "text": [
            "/usr/local/lib/python3.11/dist-packages/IPython/core/interactiveshell.py:3553: LangChainDeprecationWarning: As of langchain-core 0.3.0, LangChain uses pydantic v2 internally. The langchain_core.pydantic_v1 module was a compatibility shim for pydantic v1, and should no longer be used. Please update the code to import from Pydantic directly.\n",
            "\n",
            "For example, replace imports like: `from langchain_core.pydantic_v1 import BaseModel`\n",
            "with: `from pydantic import BaseModel`\n",
            "or the v1 compatibility namespace if you are working in a code base that has not been fully upgraded to pydantic 2 yet. \tfrom pydantic.v1 import BaseModel\n",
            "\n",
            "  exec(code_obj, self.user_global_ns, self.user_ns)\n"
          ]
        }
      ]
    },
    {
      "cell_type": "code",
      "source": [
        "GROQ_API_KEY = os.environ.get(\"GROQ_API_KEY\")\n",
        "if not GROQ_API_KEY:\n",
        "    # Fallback for Colab/Jupyter environments\n",
        "    try:\n",
        "        from google.colab import userdata\n",
        "        GROQ_API_KEY = userdata.get('GROQ_API_KEY')\n",
        "    except (ImportError, KeyError):\n",
        "        print(\"Please provide your Groq API key.\")\n",
        "        GROQ_API_KEY = \"\""
      ],
      "metadata": {
        "id": "VpoRseTX54OA"
      },
      "execution_count": 3,
      "outputs": []
    },
    {
      "cell_type": "code",
      "source": [
        "# Setup the LLM\n",
        "llm = ChatGroq(model=\"llama3-8b-8192\", temperature=0, api_key=GROQ_API_KEY)"
      ],
      "metadata": {
        "id": "sGB7Oct95-Yg"
      },
      "execution_count": 4,
      "outputs": []
    },
    {
      "cell_type": "code",
      "source": [
        "#DATABASE SETUP\n",
        "# We'll use an in-memory SQLite database to store the feedback.\n",
        "\n",
        "DB_FILE = \"customer_feedback.db\"\n",
        "if os.path.exists(DB_FILE):\n",
        "    os.remove(DB_FILE)\n",
        "\n",
        "conn = sqlite3.connect(DB_FILE)\n",
        "cursor = conn.cursor()\n",
        "\n",
        "# Create the table to store feedback\n",
        "cursor.execute(\"\"\"\n",
        "CREATE TABLE service_reviews (\n",
        "    id INTEGER PRIMARY KEY AUTOINCREMENT,\n",
        "    customer_name TEXT NOT NULL,\n",
        "    service_type TEXT NOT NULL,\n",
        "    booking_id TEXT UNIQUE,\n",
        "    call_transcript TEXT,\n",
        "    extracted_feedback TEXT,\n",
        "    sentiment TEXT,\n",
        "    review_date TIMESTAMP DEFAULT CURRENT_TIMESTAMP\n",
        ")\n",
        "\"\"\")\n",
        "conn.commit()\n",
        "print(\"Database 'service_reviews' created successfully.\")\n"
      ],
      "metadata": {
        "colab": {
          "base_uri": "https://localhost:8080/"
        },
        "id": "fby9t7-36DcU",
        "outputId": "a2965061-c99e-4299-9315-58b95b4780d3"
      },
      "execution_count": 5,
      "outputs": [
        {
          "output_type": "stream",
          "name": "stdout",
          "text": [
            "Database 'service_reviews' created successfully.\n"
          ]
        }
      ]
    },
    {
      "cell_type": "code",
      "source": [
        "#DEFINE THE STATE AND SCHEMAS\n",
        "\n",
        "class ExtractedFeedback(BaseModel):\n",
        "    \"\"\"Schema for the data extracted from the call transcript.\"\"\"\n",
        "    customer_feedback: str = Field(..., description=\"The verbatim feedback provided by the customer about their service experience.\")\n",
        "\n",
        "class SentimentAnalysis(BaseModel):\n",
        "    \"\"\"Schema for the sentiment analysis of the feedback.\"\"\"\n",
        "    sentiment: Literal[\"Satisfied\", \"Dissatisfied\", \"Neutral\"] = Field(..., description=\"The overall sentiment of the customer's feedback.\")\n",
        "\n",
        "class AgentState(TypedDict):\n",
        "    \"\"\"The state of our graph.\"\"\"\n",
        "    booking_id: str\n",
        "    customer_name: str\n",
        "    service_type: str\n",
        "    call_transcript: str\n",
        "    extracted_data: ExtractedFeedback\n",
        "    sentiment_analysis: SentimentAnalysis\n",
        "    db_update_status: str\n"
      ],
      "metadata": {
        "id": "JCIazMbp6b9T"
      },
      "execution_count": 6,
      "outputs": []
    },
    {
      "cell_type": "code",
      "source": [
        "def call_simulation_node(state: AgentState):\n",
        "    \"\"\"\n",
        "    Simulates a phone call to the customer and generates a transcript.\n",
        "    In a real system, this would be replaced by a telephony API call.\n",
        "    \"\"\"\n",
        "    print(\"\\n➡️ Simulating customer feedback call...\")\n",
        "    customer_name = state['customer_name']\n",
        "    service_type = state['service_type']\n",
        "\n",
        "    # Generate a realistic-sounding conversation\n",
        "    prompt = f\"\"\"\n",
        "    Generate a short, realistic phone call transcript between an AI agent and a customer named {customer_name}.\n",
        "    The AI is calling to get feedback about a recent '{service_type}' service.\n",
        "    Make the customer's feedback clear. For example, they could be happy with the punctuality but unhappy with the quality, or vice versa.\n",
        "    \"\"\"\n",
        "    transcript = llm.invoke(prompt).content\n",
        "    print(\"✅ Call simulation complete.\")\n",
        "    return {\"call_transcript\": transcript}\n",
        "\n",
        "\n",
        "def feedback_extraction_node(state: AgentState):\n",
        "    \"\"\"\n",
        "    Extracts the core feedback from the call transcript using a structured output LLM.\n",
        "    \"\"\"\n",
        "    print(\"\\n➡️ Extracting feedback from transcript...\")\n",
        "    feedback_extractor_llm = llm.with_structured_output(ExtractedFeedback)\n",
        "    prompt = [\n",
        "        SystemMessage(content=\"You are an expert at analyzing conversations. Your task is to extract the customer's core feedback about their service experience from the provided call transcript.\"),\n",
        "        HumanMessage(content=state[\"call_transcript\"]),\n",
        "    ]\n",
        "    extracted_data = feedback_extractor_llm.invoke(prompt)\n",
        "    print(\"✅ Feedback extracted successfully.\")\n",
        "    return {\"extracted_data\": extracted_data}\n",
        "\n",
        "\n",
        "def sentiment_analysis_node(state: AgentState):\n",
        "    \"\"\"\n",
        "    Analyzes the extracted feedback to determine the customer's sentiment.\n",
        "    \"\"\"\n",
        "    print(\"\\n➡️ Analyzing sentiment...\")\n",
        "    sentiment_analyzer_llm = llm.with_structured_output(SentimentAnalysis)\n",
        "    prompt = [\n",
        "        SystemMessage(content=\"You are an expert sentiment analyst. Based on the following customer feedback, classify the sentiment as 'Satisfied', 'Dissatisfied', or 'Neutral'.\"),\n",
        "        HumanMessage(content=state[\"extracted_data\"].customer_feedback),\n",
        "    ]\n",
        "    sentiment_analysis = sentiment_analyzer_llm.invoke(prompt)\n",
        "    print(f\"✅ Sentiment analyzed as: '{sentiment_analysis.sentiment}'\")\n",
        "    return {\"sentiment_analysis\": sentiment_analysis}\n",
        "\n",
        "\n",
        "def database_update_node(state: AgentState):\n",
        "    \"\"\"\n",
        "    Saves the collected information to the SQLite database.\n",
        "    \"\"\"\n",
        "    print(\"\\n➡️ Updating database...\")\n",
        "    local_conn = sqlite3.connect(DB_FILE)\n",
        "    local_cursor = local_conn.cursor()\n",
        "    try:\n",
        "        local_cursor.execute(\n",
        "            \"\"\"\n",
        "            INSERT INTO service_reviews (booking_id, customer_name, service_type, call_transcript, extracted_feedback, sentiment)\n",
        "            VALUES (?, ?, ?, ?, ?, ?)\n",
        "            \"\"\",\n",
        "            (\n",
        "                state['booking_id'],\n",
        "                state['customer_name'],\n",
        "                state['service_type'],\n",
        "                state['call_transcript'],\n",
        "                state['extracted_data'].customer_feedback,\n",
        "                state['sentiment_analysis'].sentiment,\n",
        "            )\n",
        "        )\n",
        "        local_conn.commit()\n",
        "        print(\"✅ Database updated successfully.\")\n",
        "        return {\"db_update_status\": \"Success\"}\n",
        "    except sqlite3.Error as e:\n",
        "        print(f\"❌ Database update failed: {e}\")\n",
        "        return {\"db_update_status\": f\"Failed: {e}\"}\n",
        "    finally:\n",
        "        local_conn.close()\n"
      ],
      "metadata": {
        "id": "UkGYjQrn6dHN"
      },
      "execution_count": 7,
      "outputs": []
    },
    {
      "cell_type": "code",
      "source": [
        "# CONSTRUCT THE GRAPH\n",
        "\n",
        "workflow = StateGraph(AgentState)\n",
        "\n",
        "# Add the nodes\n",
        "workflow.add_node(\"call_simulation\", call_simulation_node)\n",
        "workflow.add_node(\"feedback_extraction\", feedback_extraction_node)\n",
        "workflow.add_node(\"sentiment_analysis\", sentiment_analysis_node)\n",
        "workflow.add_node(\"database_update\", database_update_node)\n",
        "\n",
        "# Define the graph's flow\n",
        "workflow.set_entry_point(\"call_simulation\")\n",
        "workflow.add_edge(\"call_simulation\", \"feedback_extraction\")\n",
        "workflow.add_edge(\"feedback_extraction\", \"sentiment_analysis\")\n",
        "workflow.add_edge(\"sentiment_analysis\", \"database_update\")\n",
        "workflow.add_edge(\"database_update\", END)\n",
        "\n",
        "# Compile the graph\n",
        "app = workflow.compile()"
      ],
      "metadata": {
        "id": "o8GiKw5o6nV7"
      },
      "execution_count": 8,
      "outputs": []
    },
    {
      "cell_type": "code",
      "source": [
        "# Visualize the graph\n",
        "print(\"\\n📊 Customer Feedback Agent Workflow:\")\n",
        "display(Image(app.get_graph().draw_mermaid_png()))"
      ],
      "metadata": {
        "colab": {
          "base_uri": "https://localhost:8080/",
          "height": 583
        },
        "id": "AbAULwM96sRk",
        "outputId": "d8b44a46-1a22-40ad-b6ac-3365b915023a"
      },
      "execution_count": 9,
      "outputs": [
        {
          "output_type": "stream",
          "name": "stdout",
          "text": [
            "\n",
            "📊 Customer Feedback Agent Workflow:\n"
          ]
        },
        {
          "output_type": "display_data",
          "data": {
            "image/png": "[encoded data removed]",
            "text/plain": [
              "<IPython.core.display.Image object>"
            ]
          },
          "metadata": {}
        }
      ]
    },
    {
      "cell_type": "code",
      "source": [
        "# EXECUTION LOGIC\n",
        "\n",
        "def run_feedback_agent(customer_name: str, service_type: str):\n",
        "    \"\"\"\n",
        "    Runs the full customer feedback agent workflow for a given booking.\n",
        "    \"\"\"\n",
        "    booking_id = f\"BK-{random.randint(1000, 9999)}\"\n",
        "    print(\"\\n\" + \"=\"*50)\n",
        "    print(f\"🚀 Starting New Feedback Cycle for Booking ID: {booking_id}\")\n",
        "    print(f\"   - Customer: {customer_name}\")\n",
        "    print(f\"   - Service: {service_type}\")\n",
        "    print(\"=\"*50)\n",
        "\n",
        "    initial_state = {\n",
        "        \"booking_id\": booking_id,\n",
        "        \"customer_name\": customer_name,\n",
        "        \"service_type\": service_type,\n",
        "    }\n",
        "\n",
        "    final_state = app.invoke(initial_state)\n",
        "\n",
        "    print(\"\\n\\n\" + \"-\"*30)\n",
        "    print(\"      WORKFLOW COMPLETE\")\n",
        "    print(\"-\"*30 + \"\\n\")\n",
        "    print(f\"Booking ID: {final_state['booking_id']}\")\n",
        "    print(f\"Sentiment: {final_state['sentiment_analysis'].sentiment}\")\n",
        "    print(f\"Feedback: \\\"{final_state['extracted_data'].customer_feedback}\\\"\")\n",
        "    print(f\"Database Status: {final_state['db_update_status']}\")\n",
        "    print(\"\\n--- Full Call Transcript ---\")\n",
        "    print(final_state['call_transcript'])\n",
        "    print(\"-\" * 28)"
      ],
      "metadata": {
        "id": "WNJ-nWUa6vCt"
      },
      "execution_count": 10,
      "outputs": []
    },
    {
      "cell_type": "code",
      "source": [
        "# RUN EXAMPLES\n",
        "run_feedback_agent(customer_name=\"Shubham\", service_type=\"AC Repair\")\n",
        "run_feedback_agent(customer_name=\"Priya\", service_type=\"House Cleaning\")\n",
        "\n",
        "# Verify the data in the database\n",
        "with sqlite3.connect(DB_FILE) as conn:\n",
        "    cursor = conn.cursor()\n",
        "    print(\"\\n\\n🔍 Verifying data in 'service_reviews' table...\")\n",
        "    cursor.execute(\"SELECT booking_id, customer_name, sentiment FROM service_reviews;\")\n",
        "    results = cursor.fetchall()\n",
        "    for row in results:\n",
        "        print(f\"   - {row}\")\n",
        "\n",
        "# Close the initial database connection\n",
        "conn.close()"
      ],
      "metadata": {
        "colab": {
          "base_uri": "https://localhost:8080/"
        },
        "id": "9dWSmPXQ69J2",
        "outputId": "4dbe0c57-450c-4ee9-bf5b-4f39acdc9a66"
      },
      "execution_count": 11,
      "outputs": [
        {
          "output_type": "stream",
          "name": "stdout",
          "text": [
            "\n",
            "==================================================\n",
            "🚀 Starting New Feedback Cycle for Booking ID: BK-4976\n",
            "   - Customer: Shubham\n",
            "   - Service: AC Repair\n",
            "==================================================\n",
            "\n",
            "➡️ Simulating customer feedback call...\n",
            "✅ Call simulation complete.\n",
            "\n",
            "➡️ Extracting feedback from transcript...\n",
            "✅ Feedback extracted successfully.\n",
            "\n",
            "➡️ Analyzing sentiment...\n",
            "✅ Sentiment analyzed as: 'Dissatisfied'\n",
            "\n",
            "➡️ Updating database...\n",
            "✅ Database updated successfully.\n",
            "\n",
            "\n",
            "------------------------------\n",
            "      WORKFLOW COMPLETE\n",
            "------------------------------\n",
            "\n",
            "Booking ID: BK-4976\n",
            "Sentiment: Dissatisfied\n",
            "Feedback: \"The technician was punctual and professional, but the repair work was not done correctly. The technician seemed to be in a rush and didn't take the time to properly diagnose the issue. I was expecting a more thorough job.\"\n",
            "Database Status: Success\n",
            "\n",
            "--- Full Call Transcript ---\n",
            "Here is a short, realistic phone call transcript between an AI agent and a customer named Shubham:\n",
            "\n",
            "**AI Agent:** Hello, Shubham. Thank you for taking my call. I'm calling from XYZ Home Services to get your feedback about the AC repair service we provided to you recently.\n",
            "\n",
            "**Shubham:** Ah, hi. Yeah, I'm happy to give you my feedback.\n",
            "\n",
            "**AI Agent:** Great, thank you. Can you start by telling me about your experience with our technician, Rohan? Was he punctual and professional?\n",
            "\n",
            "**Shubham:** Yeah, Rohan was right on time. He showed up exactly at the scheduled time and was very courteous. I appreciated that.\n",
            "\n",
            "**AI Agent:** That's great to hear. And how about the quality of the repair work? Was everything fixed correctly?\n",
            "\n",
            "**Shubham:** Unfortunately, no. The AC is still not working properly. The technician said he fixed the issue, but when I turned it back on, it was still blowing warm air. I had to call another company to come out and fix it again.\n",
            "\n",
            "**AI Agent:** I apologize to hear that. That's not the level of service we strive for. Can you tell me more about what happened? Was there any communication breakdown or misdiagnosis?\n",
            "\n",
            "**Shubham:** Honestly, I think Rohan just didn't take the time to properly diagnose the issue. He seemed to be in a rush and just replaced a few parts without really understanding the problem. I was expecting a more thorough job.\n",
            "\n",
            "**AI Agent:** I understand. I'm going to make sure to pass on your feedback to our team. We'll also look into re-training our technicians on proper diagnosis and repair procedures. Can I offer you a discount on your next service or a complimentary maintenance check to make up for the inconvenience?\n",
            "\n",
            "**Shubham:** Yeah, that would be great, thank you. I appreciate your willingness to listen and make things right.\n",
            "\n",
            "**AI Agent:** You're welcome, Shubham. We value your business and appreciate your feedback. We'll do our best to improve our service and prevent similar issues in the future.\n",
            "\n",
            "**Shubham:** Alright, thank you. I appreciate it.\n",
            "\n",
            "**AI Agent:** Thank you, Shubham. Have a great day.\n",
            "\n",
            "**Shubham:** You too. Bye.\n",
            "\n",
            "In this transcript, Shubham is happy with the technician's punctuality and professionalism, but unhappy with the quality of the repair work. The AI agent listens to his feedback, apologizes for the inconvenience, and offers a discount on his next service to make up for it.\n",
            "----------------------------\n",
            "\n",
            "==================================================\n",
            "🚀 Starting New Feedback Cycle for Booking ID: BK-6032\n",
            "   - Customer: Priya\n",
            "   - Service: House Cleaning\n",
            "==================================================\n",
            "\n",
            "➡️ Simulating customer feedback call...\n",
            "✅ Call simulation complete.\n",
            "\n",
            "➡️ Extracting feedback from transcript...\n",
            "✅ Feedback extracted successfully.\n",
            "\n",
            "➡️ Analyzing sentiment...\n",
            "✅ Sentiment analyzed as: 'Dissatisfied'\n",
            "\n",
            "➡️ Updating database...\n",
            "✅ Database updated successfully.\n",
            "\n",
            "\n",
            "------------------------------\n",
            "      WORKFLOW COMPLETE\n",
            "------------------------------\n",
            "\n",
            "Booking ID: BK-6032\n",
            "Sentiment: Dissatisfied\n",
            "Feedback: \"The cleaners arrived on time, but the living room and dining room were not cleaned thoroughly. There were still crumbs and dust on the furniture, and the floors weren't as clean as expected. The bathroom could have been cleaner too, with soap scum on the shower walls.\"\n",
            "Database Status: Success\n",
            "\n",
            "--- Full Call Transcript ---\n",
            "Here is a short, realistic phone call transcript between an AI agent and Priya:\n",
            "\n",
            "**AI Agent:** Hello, Priya. Thank you for taking my call. My name is Ada, and I'm calling from Sparkle Cleaning Services. We recently provided a House Cleaning service to your residence. I'd like to get your feedback on the experience.\n",
            "\n",
            "**Priya:** Hi Ada. Yeah, I remember the service. It was last Saturday.\n",
            "\n",
            "**AI Agent:** Great. Can you tell me a little bit about your experience? Were our cleaners punctual?\n",
            "\n",
            "**Priya:** Actually, yes. They arrived right on time, which was great. I appreciate that.\n",
            "\n",
            "**AI Agent:** That's wonderful to hear. And how would you rate the quality of the cleaning? Were there any areas that didn't meet your expectations?\n",
            "\n",
            "**Priya:** Unfortunately, no. The living room and dining room were not cleaned as thoroughly as I would have liked. There were still crumbs and dust on the furniture, and the floors weren't as clean as I expected.\n",
            "\n",
            "**AI Agent:** I apologize to hear that, Priya. We strive to provide a high level of service, and it sounds like we fell short in this case. Can you tell me more about what specifically was not up to your standards?\n",
            "\n",
            "**Priya:** Well, like I said, the floors were dirty, and the furniture wasn't dusted properly. And the bathroom could have been cleaner too. I mean, there was still soap scum on the shower walls.\n",
            "\n",
            "**AI Agent:** Okay, thank you for the feedback, Priya. I'm going to make sure to pass this along to our team. We'll work on improving our cleaning standards. Would you like to schedule another service with us, and we'll make sure to send a different team to ensure a better experience?\n",
            "\n",
            "**Priya:** Yeah, that would be great, thank you. I'd like to give you another chance to show me what you can do.\n",
            "\n",
            "**AI Agent:** Absolutely, Priya. I'll go ahead and schedule a new appointment for you. And as a token of apology, we'll also provide a discount on your next service. Is there a specific date and time that works for you?\n",
            "\n",
            "**Priya:** Let me check my calendar... Okay, how about next Saturday at 10 am?\n",
            "\n",
            "**AI Agent:** Sounds perfect, Priya. I'll go ahead and schedule that for you. Thank you again for your feedback, and we'll see you next Saturday.\n",
            "\n",
            "**Priya:** Thank you, Ada. Have a good day.\n",
            "\n",
            "**AI Agent:** You too, Priya. Have a great day.\n",
            "----------------------------\n",
            "\n",
            "\n",
            "🔍 Verifying data in 'service_reviews' table...\n",
            "   - ('BK-4976', 'Shubham', 'Dissatisfied')\n",
            "   - ('BK-6032', 'Priya', 'Dissatisfied')\n"
          ]
        }
      ]
    },
    {
      "cell_type": "code",
      "source": [],
      "metadata": {
        "id": "L5AEQQQn7CWf"
      },
      "execution_count": null,
      "outputs": []
    }
  ]
}